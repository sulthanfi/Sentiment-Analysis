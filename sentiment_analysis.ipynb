{
  "cells": [
    {
      "cell_type": "markdown",
      "metadata": {
        "id": "4tNZCgw7Tfsx"
      },
      "source": [
        "# SENTIMENT ANALYSIS USING DEEP LEARNING\n",
        "\n",
        "---"
      ]
    },
    {
      "cell_type": "markdown",
      "metadata": {
        "id": "Cf8sv8gnTfsz"
      },
      "source": [
        "## i. Perkenalan"
      ]
    },
    {
      "cell_type": "markdown",
      "metadata": {
        "id": "pXdfqzT0Tfsz"
      },
      "source": [
        "=================================================\n",
        "\n",
        "Nama  : Sulthan Fachry Inadamar\n",
        "\n",
        "================================================="
      ]
    },
    {
      "cell_type": "markdown",
      "metadata": {
        "id": "vY4uLQsJTfs0"
      },
      "source": [
        "### Latar Belakang:\n",
        "\n",
        "Dalam industri perhotelan yang kompetitif, ulasan dan rating dari customer sangat mempengaruhi keputusan calon pengunjung. Ulasan hotel sering kali disertai dengan rating yang memberikan indikasi jelas tentang pengalaman customer. Project ini bertujuan untuk menganalisis ulasan hotel yang diberi rating 1-5, untuk memahami sentimen pelanggan dan memberikan wawasan berharga bagi manajer hotel dalam meningkatkan kualitas layanan."
      ]
    },
    {
      "cell_type": "markdown",
      "metadata": {
        "id": "Pp480J1cTfs0"
      },
      "source": [
        "### Tujuan:"
      ]
    },
    {
      "cell_type": "markdown",
      "metadata": {
        "id": "wRpr9259Tfs1"
      },
      "source": [
        "Project ini bertujuan untuk mengembangkan model deep learning yang dapat mengklasifikasikan ulasan hotel berdasarkan rating menjadi kategori sentimen: \"Negatif\" (1-2), \"Netral\" (3), dan \"Positif\" (4-5). Dengan menggunakan teknik NLP dan algoritma classification,  dengan harapan dapat mencapai akurasi tinggi dalam menilai sentimen dari ulasan."
      ]
    },
    {
      "cell_type": "markdown",
      "metadata": {
        "id": "niK45P06Tfs1"
      },
      "source": [
        "Hasil yang Diharapkan: Project ini dapat menghasilkan model klasifikasi yang efektif dalam menentukan sentimen dari ulasan hotel berdasarkan rating. Dari hasil tersebut diharapkan dapat membantu manajer hotel untuk memahami umpan balik tamu, mengidentifikasi kekuatan dan kelemahan, serta merumuskan strategi untuk meningkatkan pengalaman customer.\n",
        "\n",
        "---"
      ]
    },
    {
      "cell_type": "markdown",
      "metadata": {
        "id": "G7mdrs7FTfs1"
      },
      "source": [
        "## ii. Import Libaries"
      ]
    },
    {
      "cell_type": "code",
      "execution_count": 1,
      "metadata": {
        "id": "pDv90g0S1J4u"
      },
      "outputs": [],
      "source": [
        "# Downgrade version of TensorFlow and tf-keras\n",
        "\n",
        "# !pip install --upgrade \"tensorflow<2.16\" \"tf-keras<2.16\""
      ]
    },
    {
      "cell_type": "code",
      "execution_count": 2,
      "metadata": {
        "colab": {
          "base_uri": "https://localhost:8080/"
        },
        "id": "231B_OvUTfs1",
        "outputId": "01139bcc-e895-4433-ee5b-3cfee173e6f6"
      },
      "outputs": [
        {
          "name": "stdout",
          "output_type": "stream",
          "text": [
            "WARNING:tensorflow:From c:\\Users\\fachr\\anaconda3\\envs\\tensor_flow\\lib\\site-packages\\keras\\src\\losses.py:2976: The name tf.losses.sparse_softmax_cross_entropy is deprecated. Please use tf.compat.v1.losses.sparse_softmax_cross_entropy instead.\n",
            "\n"
          ]
        },
        {
          "name": "stderr",
          "output_type": "stream",
          "text": [
            "[nltk_data] Downloading package stopwords to\n",
            "[nltk_data]     C:\\Users\\fachr\\AppData\\Roaming\\nltk_data...\n",
            "[nltk_data]   Package stopwords is already up-to-date!\n",
            "[nltk_data] Downloading package punkt_tab to\n",
            "[nltk_data]     C:\\Users\\fachr\\AppData\\Roaming\\nltk_data...\n",
            "[nltk_data]   Package punkt_tab is already up-to-date!\n"
          ]
        }
      ],
      "source": [
        "# Import Libraries\n",
        "\n",
        "import pandas as pd\n",
        "import numpy as np\n",
        "import re\n",
        "import matplotlib.pyplot as plt\n",
        "\n",
        "import tensorflow as tf\n",
        "import tensorflow_hub as tf_hub\n",
        "from tensorflow import keras\n",
        "from tensorflow.keras import Input, Model\n",
        "from tensorflow.keras.utils import to_categorical\n",
        "from tensorflow.keras.layers import TextVectorization, Embedding, LSTM, Dense, Dropout, Bidirectional, Reshape\n",
        "from tensorflow.keras.models import Sequential\n",
        "\n",
        "from sklearn.model_selection import train_test_split\n",
        "from sklearn.utils import resample\n",
        "from sklearn.feature_extraction.text import CountVectorizer\n",
        "from sklearn.metrics import classification_report, precision_score, recall_score, accuracy_score, f1_score\n",
        "\n",
        "import nltk\n",
        "from nltk.corpus import stopwords\n",
        "from nltk.tokenize import word_tokenize\n",
        "\n",
        "import joblib\n",
        "import pickle\n",
        "\n",
        "nltk.download('stopwords')\n",
        "nltk.download('punkt_tab')\n",
        "\n",
        "\n",
        "# To Ignore Warning\n",
        "import warnings\n",
        "warnings.filterwarnings(\"ignore\")"
      ]
    },
    {
      "cell_type": "markdown",
      "metadata": {
        "id": "A7jtS4wATfs2"
      },
      "source": [
        "---"
      ]
    },
    {
      "cell_type": "markdown",
      "metadata": {
        "id": "zGe7ai95Tfs2"
      },
      "source": [
        "## iii. Data Loading"
      ]
    },
    {
      "cell_type": "code",
      "execution_count": 3,
      "metadata": {
        "colab": {
          "base_uri": "https://localhost:8080/",
          "height": 206
        },
        "id": "plCNufGfTfs2",
        "outputId": "50479f87-5eb7-4de2-a8dd-57c539abf92e"
      },
      "outputs": [
        {
          "data": {
            "text/html": [
              "<div>\n",
              "<style scoped>\n",
              "    .dataframe tbody tr th:only-of-type {\n",
              "        vertical-align: middle;\n",
              "    }\n",
              "\n",
              "    .dataframe tbody tr th {\n",
              "        vertical-align: top;\n",
              "    }\n",
              "\n",
              "    .dataframe thead th {\n",
              "        text-align: right;\n",
              "    }\n",
              "</style>\n",
              "<table border=\"1\" class=\"dataframe\">\n",
              "  <thead>\n",
              "    <tr style=\"text-align: right;\">\n",
              "      <th></th>\n",
              "      <th>Review</th>\n",
              "      <th>Rating</th>\n",
              "    </tr>\n",
              "  </thead>\n",
              "  <tbody>\n",
              "    <tr>\n",
              "      <th>0</th>\n",
              "      <td>nice hotel expensive parking got good deal sta...</td>\n",
              "      <td>4</td>\n",
              "    </tr>\n",
              "    <tr>\n",
              "      <th>1</th>\n",
              "      <td>ok nothing special charge diamond member hilto...</td>\n",
              "      <td>2</td>\n",
              "    </tr>\n",
              "    <tr>\n",
              "      <th>2</th>\n",
              "      <td>nice rooms not 4* experience hotel monaco seat...</td>\n",
              "      <td>3</td>\n",
              "    </tr>\n",
              "    <tr>\n",
              "      <th>3</th>\n",
              "      <td>unique, great stay, wonderful time hotel monac...</td>\n",
              "      <td>5</td>\n",
              "    </tr>\n",
              "    <tr>\n",
              "      <th>4</th>\n",
              "      <td>great stay great stay, went seahawk game aweso...</td>\n",
              "      <td>5</td>\n",
              "    </tr>\n",
              "  </tbody>\n",
              "</table>\n",
              "</div>"
            ],
            "text/plain": [
              "                                              Review  Rating\n",
              "0  nice hotel expensive parking got good deal sta...       4\n",
              "1  ok nothing special charge diamond member hilto...       2\n",
              "2  nice rooms not 4* experience hotel monaco seat...       3\n",
              "3  unique, great stay, wonderful time hotel monac...       5\n",
              "4  great stay great stay, went seahawk game aweso...       5"
            ]
          },
          "execution_count": 3,
          "metadata": {},
          "output_type": "execute_result"
        }
      ],
      "source": [
        "data = pd.read_csv('tripadvisor_hotel_reviews.csv')\n",
        "\n",
        "data.head(5) # Check 5 data pertama"
      ]
    },
    {
      "cell_type": "code",
      "execution_count": 4,
      "metadata": {
        "colab": {
          "base_uri": "https://localhost:8080/",
          "height": 206
        },
        "id": "NhW_RyqMTfs3",
        "outputId": "784960d4-905a-47d5-9a0f-e9af0f9611c4"
      },
      "outputs": [
        {
          "data": {
            "text/html": [
              "<div>\n",
              "<style scoped>\n",
              "    .dataframe tbody tr th:only-of-type {\n",
              "        vertical-align: middle;\n",
              "    }\n",
              "\n",
              "    .dataframe tbody tr th {\n",
              "        vertical-align: top;\n",
              "    }\n",
              "\n",
              "    .dataframe thead th {\n",
              "        text-align: right;\n",
              "    }\n",
              "</style>\n",
              "<table border=\"1\" class=\"dataframe\">\n",
              "  <thead>\n",
              "    <tr style=\"text-align: right;\">\n",
              "      <th></th>\n",
              "      <th>Review</th>\n",
              "      <th>Rating</th>\n",
              "    </tr>\n",
              "  </thead>\n",
              "  <tbody>\n",
              "    <tr>\n",
              "      <th>20486</th>\n",
              "      <td>best kept secret 3rd time staying charm, not 5...</td>\n",
              "      <td>5</td>\n",
              "    </tr>\n",
              "    <tr>\n",
              "      <th>20487</th>\n",
              "      <td>great location price view hotel great quick pl...</td>\n",
              "      <td>4</td>\n",
              "    </tr>\n",
              "    <tr>\n",
              "      <th>20488</th>\n",
              "      <td>ok just looks nice modern outside, desk staff ...</td>\n",
              "      <td>2</td>\n",
              "    </tr>\n",
              "    <tr>\n",
              "      <th>20489</th>\n",
              "      <td>hotel theft ruined vacation hotel opened sept ...</td>\n",
              "      <td>1</td>\n",
              "    </tr>\n",
              "    <tr>\n",
              "      <th>20490</th>\n",
              "      <td>people talking, ca n't believe excellent ratin...</td>\n",
              "      <td>2</td>\n",
              "    </tr>\n",
              "  </tbody>\n",
              "</table>\n",
              "</div>"
            ],
            "text/plain": [
              "                                                  Review  Rating\n",
              "20486  best kept secret 3rd time staying charm, not 5...       5\n",
              "20487  great location price view hotel great quick pl...       4\n",
              "20488  ok just looks nice modern outside, desk staff ...       2\n",
              "20489  hotel theft ruined vacation hotel opened sept ...       1\n",
              "20490  people talking, ca n't believe excellent ratin...       2"
            ]
          },
          "execution_count": 4,
          "metadata": {},
          "output_type": "execute_result"
        }
      ],
      "source": [
        "data.tail(5) # Check 5 data terakhir"
      ]
    },
    {
      "cell_type": "code",
      "execution_count": 5,
      "metadata": {
        "colab": {
          "base_uri": "https://localhost:8080/"
        },
        "id": "rCZpzQKETfs3",
        "outputId": "985ce9ed-ca9a-47ba-fdb6-c570851da0e9"
      },
      "outputs": [
        {
          "name": "stdout",
          "output_type": "stream",
          "text": [
            "<class 'pandas.core.frame.DataFrame'>\n",
            "RangeIndex: 20491 entries, 0 to 20490\n",
            "Data columns (total 2 columns):\n",
            " #   Column  Non-Null Count  Dtype \n",
            "---  ------  --------------  ----- \n",
            " 0   Review  20491 non-null  object\n",
            " 1   Rating  20491 non-null  int64 \n",
            "dtypes: int64(1), object(1)\n",
            "memory usage: 320.3+ KB\n"
          ]
        }
      ],
      "source": [
        "data.info()"
      ]
    },
    {
      "cell_type": "markdown",
      "metadata": {
        "id": "E2p-VoPbTfs3"
      },
      "source": [
        "- Kolom review dan rating sudah sesuai data typenya\n",
        "- Tidak ada missing values\n",
        "- Ada 20491 data"
      ]
    },
    {
      "cell_type": "markdown",
      "metadata": {
        "id": "kvL0dfuGTfs3"
      },
      "source": [
        "## iv. EDA"
      ]
    },
    {
      "cell_type": "markdown",
      "metadata": {
        "id": "jtlAbKpyTfs3"
      },
      "source": [
        "### Missing Value"
      ]
    },
    {
      "cell_type": "code",
      "execution_count": 6,
      "metadata": {
        "colab": {
          "base_uri": "https://localhost:8080/",
          "height": 147
        },
        "id": "RDuFKnD8Tfs3",
        "outputId": "0d46c3d4-5bc4-4b8e-a0cc-fa279f5b49d1"
      },
      "outputs": [
        {
          "data": {
            "text/plain": [
              "Review    0\n",
              "Rating    0\n",
              "dtype: int64"
            ]
          },
          "execution_count": 6,
          "metadata": {},
          "output_type": "execute_result"
        }
      ],
      "source": [
        "data.isnull().sum()"
      ]
    },
    {
      "cell_type": "markdown",
      "metadata": {
        "id": "LLsBblUTTfs3"
      },
      "source": [
        "- Tidak ada missing value"
      ]
    },
    {
      "cell_type": "markdown",
      "metadata": {
        "id": "dkXD3PhgTfs3"
      },
      "source": [
        "### Deskripsi kolom rating"
      ]
    },
    {
      "cell_type": "code",
      "execution_count": 7,
      "metadata": {
        "colab": {
          "base_uri": "https://localhost:8080/",
          "height": 335
        },
        "id": "7oPs08guTfs3",
        "outputId": "754a654f-0826-4084-ed32-2ba6dd31e188"
      },
      "outputs": [
        {
          "data": {
            "text/plain": [
              "count    20491.000000\n",
              "mean         3.952223\n",
              "std          1.233030\n",
              "min          1.000000\n",
              "25%          3.000000\n",
              "50%          4.000000\n",
              "75%          5.000000\n",
              "max          5.000000\n",
              "Name: Rating, dtype: float64"
            ]
          },
          "execution_count": 7,
          "metadata": {},
          "output_type": "execute_result"
        }
      ],
      "source": [
        "data['Rating'].describe()"
      ]
    },
    {
      "cell_type": "markdown",
      "metadata": {
        "id": "GKRfefp1Tfs4"
      },
      "source": [
        "- Rata-rata kolom rating ada di 3.9"
      ]
    },
    {
      "cell_type": "markdown",
      "metadata": {
        "id": "5cE0SKxGTfs4"
      },
      "source": [
        "### Distribusi data Rating"
      ]
    },
    {
      "cell_type": "code",
      "execution_count": 8,
      "metadata": {
        "colab": {
          "base_uri": "https://localhost:8080/",
          "height": 675
        },
        "id": "_Gwpg9RSTfs4",
        "outputId": "c8a2171c-bda6-43d4-a4bf-069773ab2f0b"
      },
      "outputs": [
        {
          "data": {
            "image/png": "[encoded data removed]",
            "text/plain": [
              "<Figure size 800x800 with 1 Axes>"
            ]
          },
          "metadata": {},
          "output_type": "display_data"
        }
      ],
      "source": [
        "rating = data['Rating'].value_counts()\n",
        "\n",
        "plt.figure(figsize=(8, 8))\n",
        "plt.pie(rating, labels=rating.index, autopct='%1.1f%%', startangle=140)\n",
        "plt.title('Distribusi Rating')\n",
        "plt.axis('equal')  # Agar pie chart berbentuk lingkaran\n",
        "plt.show()"
      ]
    },
    {
      "cell_type": "markdown",
      "metadata": {
        "id": "Ed-y5zk3Tfs4"
      },
      "source": [
        "Dari dataset ini dapat dikonklusikan:\n",
        "\n",
        "- Rating negatif (1-2) memiliki jumlah ~3000 data\n",
        "- Rating netral (3) ~2000 data\n",
        "- Rating positif(4-5) memiliki jumlah ~15000 data\n",
        "\n",
        "Kesimpulan:\n",
        "Rating positif lebih dominan daripada rating negatif menandakan data tidak terdistribusi dengan baik atau data tidak balance. Hal ini dapat mempengaruhi kinerja model ketika memprediksi rating dari review yang diberikan oleh user atau pelanggan. Oleh karena itu, kita perlu melakukan databalancing."
      ]
    },
    {
      "cell_type": "markdown",
      "metadata": {
        "id": "aF5o0oOSTfs4"
      },
      "source": [
        "## v. Feature Engineering"
      ]
    },
    {
      "cell_type": "markdown",
      "metadata": {
        "id": "tXu3ZLcGTfs4"
      },
      "source": [
        "### Grouping Positive and Negative rating"
      ]
    },
    {
      "cell_type": "code",
      "execution_count": 9,
      "metadata": {
        "colab": {
          "base_uri": "https://localhost:8080/",
          "height": 241
        },
        "id": "i5Tc901gTfs4",
        "outputId": "a2d8d46d-2de8-4514-b29b-d9ab280244ef"
      },
      "outputs": [
        {
          "data": {
            "text/plain": [
              "Rating\n",
              "5    9054\n",
              "4    6039\n",
              "2    1793\n",
              "1    1421\n",
              "Name: count, dtype: int64"
            ]
          },
          "execution_count": 9,
          "metadata": {},
          "output_type": "execute_result"
        }
      ],
      "source": [
        "data = data[data['Rating'] != 3] # Drop rating 3\n",
        "\n",
        "data['Rating'].value_counts()"
      ]
    },
    {
      "cell_type": "markdown",
      "metadata": {
        "id": "1NJ8sJFPTfs4"
      },
      "source": [
        "- Drop rating 3 karena bersifat netral dan diduga kurang berdampak dalam segi marketing"
      ]
    },
    {
      "cell_type": "code",
      "execution_count": 10,
      "metadata": {
        "colab": {
          "base_uri": "https://localhost:8080/",
          "height": 675
        },
        "id": "7hPkuCu2Tfs5",
        "outputId": "7a316e16-e7de-4d0a-c0aa-7c599399bdfe"
      },
      "outputs": [
        {
          "data": {
            "image/png": "[encoded data removed]",
            "text/plain": [
              "<Figure size 800x800 with 1 Axes>"
            ]
          },
          "metadata": {},
          "output_type": "display_data"
        }
      ],
      "source": [
        "data['Grouped_Rating'] = data['Rating'].replace({1: 0, 2: 0, 4: 1, 5: 1})\n",
        "\n",
        "# Count the grouped ratings\n",
        "grouped_counts = data['Grouped_Rating'].value_counts()\n",
        "\n",
        "# Create a pie chart for the grouped ratings\n",
        "plt.figure(figsize=(8, 8))\n",
        "plt.pie(grouped_counts, labels=grouped_counts.index, autopct='%1.1f%%', startangle=140)\n",
        "plt.title('Distribusi Rating Tergrup')\n",
        "plt.axis('equal')  # To ensure the pie chart is circular\n",
        "plt.show()"
      ]
    },
    {
      "cell_type": "markdown",
      "metadata": {},
      "source": [
        "Berdasarkan grafik diatas:\n",
        "- Data telah berhasil di grouping Negative (0) dan Positive (1)\n",
        "- Setelah dilakukan grouping terlihat bahwa data tidak balanced antara data negative (17.6%) dengan data positive (82.4%)"
      ]
    },
    {
      "cell_type": "code",
      "execution_count": 11,
      "metadata": {
        "colab": {
          "base_uri": "https://localhost:8080/",
          "height": 206
        },
        "id": "EIm-RHRyTfs5",
        "outputId": "236ecd82-fa69-4f5e-df30-6b9a3630187c"
      },
      "outputs": [
        {
          "data": {
            "text/html": [
              "<div>\n",
              "<style scoped>\n",
              "    .dataframe tbody tr th:only-of-type {\n",
              "        vertical-align: middle;\n",
              "    }\n",
              "\n",
              "    .dataframe tbody tr th {\n",
              "        vertical-align: top;\n",
              "    }\n",
              "\n",
              "    .dataframe thead th {\n",
              "        text-align: right;\n",
              "    }\n",
              "</style>\n",
              "<table border=\"1\" class=\"dataframe\">\n",
              "  <thead>\n",
              "    <tr style=\"text-align: right;\">\n",
              "      <th></th>\n",
              "      <th>Review</th>\n",
              "      <th>Rating</th>\n",
              "      <th>Grouped_Rating</th>\n",
              "    </tr>\n",
              "  </thead>\n",
              "  <tbody>\n",
              "    <tr>\n",
              "      <th>0</th>\n",
              "      <td>nice hotel expensive parking got good deal sta...</td>\n",
              "      <td>4</td>\n",
              "      <td>1</td>\n",
              "    </tr>\n",
              "    <tr>\n",
              "      <th>1</th>\n",
              "      <td>ok nothing special charge diamond member hilto...</td>\n",
              "      <td>2</td>\n",
              "      <td>0</td>\n",
              "    </tr>\n",
              "    <tr>\n",
              "      <th>3</th>\n",
              "      <td>unique, great stay, wonderful time hotel monac...</td>\n",
              "      <td>5</td>\n",
              "      <td>1</td>\n",
              "    </tr>\n",
              "    <tr>\n",
              "      <th>4</th>\n",
              "      <td>great stay great stay, went seahawk game aweso...</td>\n",
              "      <td>5</td>\n",
              "      <td>1</td>\n",
              "    </tr>\n",
              "    <tr>\n",
              "      <th>5</th>\n",
              "      <td>love monaco staff husband stayed hotel crazy w...</td>\n",
              "      <td>5</td>\n",
              "      <td>1</td>\n",
              "    </tr>\n",
              "  </tbody>\n",
              "</table>\n",
              "</div>"
            ],
            "text/plain": [
              "                                              Review  Rating  Grouped_Rating\n",
              "0  nice hotel expensive parking got good deal sta...       4               1\n",
              "1  ok nothing special charge diamond member hilto...       2               0\n",
              "3  unique, great stay, wonderful time hotel monac...       5               1\n",
              "4  great stay great stay, went seahawk game aweso...       5               1\n",
              "5  love monaco staff husband stayed hotel crazy w...       5               1"
            ]
          },
          "execution_count": 11,
          "metadata": {},
          "output_type": "execute_result"
        }
      ],
      "source": [
        "data.head(5)"
      ]
    },
    {
      "cell_type": "code",
      "execution_count": 12,
      "metadata": {
        "id": "CfBHVdNdTfs5"
      },
      "outputs": [],
      "source": [
        "data = data.drop('Rating', axis=1) # Drop kolom rating karena akan menggunakan grouped rating sebagai fitur"
      ]
    },
    {
      "cell_type": "code",
      "execution_count": 13,
      "metadata": {
        "colab": {
          "base_uri": "https://localhost:8080/",
          "height": 424
        },
        "id": "_NRYRi0tTfs5",
        "outputId": "941cb15f-b0e3-4495-fb1f-52fb2e8e5d5b"
      },
      "outputs": [
        {
          "data": {
            "text/html": [
              "<div>\n",
              "<style scoped>\n",
              "    .dataframe tbody tr th:only-of-type {\n",
              "        vertical-align: middle;\n",
              "    }\n",
              "\n",
              "    .dataframe tbody tr th {\n",
              "        vertical-align: top;\n",
              "    }\n",
              "\n",
              "    .dataframe thead th {\n",
              "        text-align: right;\n",
              "    }\n",
              "</style>\n",
              "<table border=\"1\" class=\"dataframe\">\n",
              "  <thead>\n",
              "    <tr style=\"text-align: right;\">\n",
              "      <th></th>\n",
              "      <th>Review</th>\n",
              "      <th>Grouped_Rating</th>\n",
              "    </tr>\n",
              "  </thead>\n",
              "  <tbody>\n",
              "    <tr>\n",
              "      <th>0</th>\n",
              "      <td>nice hotel expensive parking got good deal sta...</td>\n",
              "      <td>1</td>\n",
              "    </tr>\n",
              "    <tr>\n",
              "      <th>1</th>\n",
              "      <td>ok nothing special charge diamond member hilto...</td>\n",
              "      <td>0</td>\n",
              "    </tr>\n",
              "    <tr>\n",
              "      <th>3</th>\n",
              "      <td>unique, great stay, wonderful time hotel monac...</td>\n",
              "      <td>1</td>\n",
              "    </tr>\n",
              "    <tr>\n",
              "      <th>4</th>\n",
              "      <td>great stay great stay, went seahawk game aweso...</td>\n",
              "      <td>1</td>\n",
              "    </tr>\n",
              "    <tr>\n",
              "      <th>5</th>\n",
              "      <td>love monaco staff husband stayed hotel crazy w...</td>\n",
              "      <td>1</td>\n",
              "    </tr>\n",
              "    <tr>\n",
              "      <th>...</th>\n",
              "      <td>...</td>\n",
              "      <td>...</td>\n",
              "    </tr>\n",
              "    <tr>\n",
              "      <th>20486</th>\n",
              "      <td>best kept secret 3rd time staying charm, not 5...</td>\n",
              "      <td>1</td>\n",
              "    </tr>\n",
              "    <tr>\n",
              "      <th>20487</th>\n",
              "      <td>great location price view hotel great quick pl...</td>\n",
              "      <td>1</td>\n",
              "    </tr>\n",
              "    <tr>\n",
              "      <th>20488</th>\n",
              "      <td>ok just looks nice modern outside, desk staff ...</td>\n",
              "      <td>0</td>\n",
              "    </tr>\n",
              "    <tr>\n",
              "      <th>20489</th>\n",
              "      <td>hotel theft ruined vacation hotel opened sept ...</td>\n",
              "      <td>0</td>\n",
              "    </tr>\n",
              "    <tr>\n",
              "      <th>20490</th>\n",
              "      <td>people talking, ca n't believe excellent ratin...</td>\n",
              "      <td>0</td>\n",
              "    </tr>\n",
              "  </tbody>\n",
              "</table>\n",
              "<p>18307 rows × 2 columns</p>\n",
              "</div>"
            ],
            "text/plain": [
              "                                                  Review  Grouped_Rating\n",
              "0      nice hotel expensive parking got good deal sta...               1\n",
              "1      ok nothing special charge diamond member hilto...               0\n",
              "3      unique, great stay, wonderful time hotel monac...               1\n",
              "4      great stay great stay, went seahawk game aweso...               1\n",
              "5      love monaco staff husband stayed hotel crazy w...               1\n",
              "...                                                  ...             ...\n",
              "20486  best kept secret 3rd time staying charm, not 5...               1\n",
              "20487  great location price view hotel great quick pl...               1\n",
              "20488  ok just looks nice modern outside, desk staff ...               0\n",
              "20489  hotel theft ruined vacation hotel opened sept ...               0\n",
              "20490  people talking, ca n't believe excellent ratin...               0\n",
              "\n",
              "[18307 rows x 2 columns]"
            ]
          },
          "execution_count": 13,
          "metadata": {},
          "output_type": "execute_result"
        }
      ],
      "source": [
        "data"
      ]
    },
    {
      "cell_type": "markdown",
      "metadata": {
        "id": "DxkjHBmDTfs5"
      },
      "source": [
        "### Data Balancing"
      ]
    },
    {
      "cell_type": "code",
      "execution_count": 14,
      "metadata": {
        "colab": {
          "base_uri": "https://localhost:8080/",
          "height": 178
        },
        "id": "g5jzW0hOTfs5",
        "outputId": "83ed1d9d-aa33-48c8-8006-b53f4bb05dd1"
      },
      "outputs": [
        {
          "data": {
            "text/plain": [
              "Grouped_Rating\n",
              "1    15093\n",
              "0     3214\n",
              "Name: count, dtype: int64"
            ]
          },
          "execution_count": 14,
          "metadata": {},
          "output_type": "execute_result"
        }
      ],
      "source": [
        "data['Grouped_Rating'].value_counts()"
      ]
    },
    {
      "cell_type": "markdown",
      "metadata": {},
      "source": [
        "- Terlihat bahwa rating positif (15093) lebih dominan ketimbang rating negatif (3214)\n",
        "- Data yang tidak balance dapat mempengaruhi performa model sehingga perlu dilakukan data balancing."
      ]
    },
    {
      "cell_type": "code",
      "execution_count": 15,
      "metadata": {
        "id": "Fk1w4VM2Tfs6"
      },
      "outputs": [],
      "source": [
        "# Definisikan data mayoritas dan minoritas\n",
        "df_majority = data[data['Grouped_Rating'] == 1]\n",
        "df_minority = data[data['Grouped_Rating'] == 0]"
      ]
    },
    {
      "cell_type": "markdown",
      "metadata": {},
      "source": [
        "- Memisahkan data mayoritas dan data minoritas"
      ]
    },
    {
      "cell_type": "code",
      "execution_count": 16,
      "metadata": {
        "colab": {
          "base_uri": "https://localhost:8080/"
        },
        "id": "9F7hBvdiTfs6",
        "outputId": "9d43757c-6414-4eb2-fd22-b63269fd7338"
      },
      "outputs": [
        {
          "name": "stdout",
          "output_type": "stream",
          "text": [
            "Grouped_Rating\n",
            "0    3214\n",
            "1    3214\n",
            "Name: count, dtype: int64\n"
          ]
        }
      ],
      "source": [
        "# Undersampling data yang mayoritas\n",
        "df_majority_downsampled = resample(df_majority,\n",
        "                                     replace=False,\n",
        "                                     n_samples=len(df_minority),\n",
        "                                     random_state=43)\n",
        "\n",
        "# concat data yang sudah di sampling dan minoritas\n",
        "data_balanced = pd.concat([df_majority_downsampled, df_minority])\n",
        "\n",
        "data_balanced = data_balanced.sample(frac=1, random_state=43).reset_index(drop=True)\n",
        "\n",
        "# Print hasil\n",
        "print(data_balanced['Grouped_Rating'].value_counts())"
      ]
    },
    {
      "cell_type": "markdown",
      "metadata": {},
      "source": [
        "- Data sudah balanced sesuai dengan data yang minoritas (rating negatif)"
      ]
    },
    {
      "cell_type": "code",
      "execution_count": 17,
      "metadata": {
        "colab": {
          "base_uri": "https://localhost:8080/",
          "height": 206
        },
        "id": "6oMXQeeHZvxf",
        "outputId": "b3cde344-eaab-4130-cb89-39bda84a2993"
      },
      "outputs": [
        {
          "data": {
            "text/html": [
              "<div>\n",
              "<style scoped>\n",
              "    .dataframe tbody tr th:only-of-type {\n",
              "        vertical-align: middle;\n",
              "    }\n",
              "\n",
              "    .dataframe tbody tr th {\n",
              "        vertical-align: top;\n",
              "    }\n",
              "\n",
              "    .dataframe thead th {\n",
              "        text-align: right;\n",
              "    }\n",
              "</style>\n",
              "<table border=\"1\" class=\"dataframe\">\n",
              "  <thead>\n",
              "    <tr style=\"text-align: right;\">\n",
              "      <th></th>\n",
              "      <th>Review</th>\n",
              "      <th>Grouped_Rating</th>\n",
              "    </tr>\n",
              "  </thead>\n",
              "  <tbody>\n",
              "    <tr>\n",
              "      <th>0</th>\n",
              "      <td>disappointing hotel disappointing, idea stayin...</td>\n",
              "      <td>0</td>\n",
              "    </tr>\n",
              "    <tr>\n",
              "      <th>1</th>\n",
              "      <td>fabulous girls went new york great stay hotel ...</td>\n",
              "      <td>1</td>\n",
              "    </tr>\n",
              "    <tr>\n",
              "      <th>2</th>\n",
              "      <td>not good motel disappointment, desk clerk not ...</td>\n",
              "      <td>0</td>\n",
              "    </tr>\n",
              "    <tr>\n",
              "      <th>3</th>\n",
              "      <td>absolutely best hotel stayed, stayed resort we...</td>\n",
              "      <td>1</td>\n",
              "    </tr>\n",
              "    <tr>\n",
              "      <th>4</th>\n",
              "      <td>nice room property service horrible, arrived h...</td>\n",
              "      <td>0</td>\n",
              "    </tr>\n",
              "  </tbody>\n",
              "</table>\n",
              "</div>"
            ],
            "text/plain": [
              "                                              Review  Grouped_Rating\n",
              "0  disappointing hotel disappointing, idea stayin...               0\n",
              "1  fabulous girls went new york great stay hotel ...               1\n",
              "2  not good motel disappointment, desk clerk not ...               0\n",
              "3  absolutely best hotel stayed, stayed resort we...               1\n",
              "4  nice room property service horrible, arrived h...               0"
            ]
          },
          "execution_count": 17,
          "metadata": {},
          "output_type": "execute_result"
        }
      ],
      "source": [
        "data_balanced.head(5)"
      ]
    },
    {
      "cell_type": "markdown",
      "metadata": {
        "id": "rkoTDiCQZ0Og"
      },
      "source": [
        "### Text preprocessing"
      ]
    },
    {
      "cell_type": "code",
      "execution_count": 18,
      "metadata": {
        "id": "Ic1MoXVmXolk"
      },
      "outputs": [],
      "source": [
        "# Define stopwords\n",
        "stop_words = list(set(stopwords.words('english')))\n",
        "\n",
        "# Define stemming\n",
        "stemmer = nltk.stem.SnowballStemmer('english')"
      ]
    },
    {
      "cell_type": "code",
      "execution_count": 19,
      "metadata": {
        "id": "aXOnjEOjYWJN"
      },
      "outputs": [],
      "source": [
        "# Create A Function for Text Preprocessing\n",
        "\n",
        "def text_preprocessing(text):\n",
        "  # Case folding\n",
        "  text = text.lower()\n",
        "\n",
        "  # Mention removal\n",
        "  text = re.sub(\"@[A-Za-z0-9_]+\", \" \", text)\n",
        "\n",
        "  # Hashtags removal\n",
        "  text = re.sub(\"#[A-Za-z0-9_]+\", \" \", text)\n",
        "\n",
        "  # Newline removal (\\n)\n",
        "  text = re.sub(r\"\\\\n\", \" \",text)\n",
        "\n",
        "  # Whitespace removal\n",
        "  text = text.strip()\n",
        "\n",
        "  # URL removal\n",
        "  text = re.sub(r\"http\\S+\", \" \", text)\n",
        "  text = re.sub(r\"www.\\S+\", \" \", text)\n",
        "\n",
        "  # Non-letter removal (such as emoticon, symbol (like μ, $, 兀), etc\n",
        "  text = re.sub(\"[^A-Za-z\\s']\", \" \", text)\n",
        "\n",
        "  # Tokenization\n",
        "  tokens = word_tokenize(text)\n",
        "\n",
        "  # Stopwords removal\n",
        "  tokens = [word for word in tokens if word not in stop_words]\n",
        "\n",
        "  # Stemming\n",
        "  tokens = [stemmer.stem(word) for word in tokens]\n",
        "\n",
        "  # Combining Tokens\n",
        "  text = ' '.join(tokens)\n",
        "\n",
        "  return text"
      ]
    },
    {
      "cell_type": "code",
      "execution_count": 20,
      "metadata": {
        "id": "ezuIkiYoYbST"
      },
      "outputs": [],
      "source": [
        "# Applying Text Preprocessing to the Dataset\n",
        "\n",
        "data_balanced['Review'] = data_balanced['Review'].apply(lambda x: text_preprocessing(x))"
      ]
    },
    {
      "cell_type": "code",
      "execution_count": 21,
      "metadata": {
        "colab": {
          "base_uri": "https://localhost:8080/",
          "height": 206
        },
        "id": "52Y1SMxCYoPU",
        "outputId": "824d96a5-8535-4534-a207-2f366c794b26"
      },
      "outputs": [
        {
          "data": {
            "text/html": [
              "<div>\n",
              "<style scoped>\n",
              "    .dataframe tbody tr th:only-of-type {\n",
              "        vertical-align: middle;\n",
              "    }\n",
              "\n",
              "    .dataframe tbody tr th {\n",
              "        vertical-align: top;\n",
              "    }\n",
              "\n",
              "    .dataframe thead th {\n",
              "        text-align: right;\n",
              "    }\n",
              "</style>\n",
              "<table border=\"1\" class=\"dataframe\">\n",
              "  <thead>\n",
              "    <tr style=\"text-align: right;\">\n",
              "      <th></th>\n",
              "      <th>Review</th>\n",
              "      <th>Grouped_Rating</th>\n",
              "    </tr>\n",
              "  </thead>\n",
              "  <tbody>\n",
              "    <tr>\n",
              "      <th>0</th>\n",
              "      <td>disappoint hotel disappoint idea stay renov th...</td>\n",
              "      <td>0</td>\n",
              "    </tr>\n",
              "    <tr>\n",
              "      <th>1</th>\n",
              "      <td>fabul girl went new york great stay hotel mela...</td>\n",
              "      <td>1</td>\n",
              "    </tr>\n",
              "    <tr>\n",
              "      <th>2</th>\n",
              "      <td>good motel disappoint desk clerk friend help r...</td>\n",
              "      <td>0</td>\n",
              "    </tr>\n",
              "    <tr>\n",
              "      <th>3</th>\n",
              "      <td>absolut best hotel stay stay resort week boyfr...</td>\n",
              "      <td>1</td>\n",
              "    </tr>\n",
              "    <tr>\n",
              "      <th>4</th>\n",
              "      <td>nice room properti servic horribl arriv hotel ...</td>\n",
              "      <td>0</td>\n",
              "    </tr>\n",
              "  </tbody>\n",
              "</table>\n",
              "</div>"
            ],
            "text/plain": [
              "                                              Review  Grouped_Rating\n",
              "0  disappoint hotel disappoint idea stay renov th...               0\n",
              "1  fabul girl went new york great stay hotel mela...               1\n",
              "2  good motel disappoint desk clerk friend help r...               0\n",
              "3  absolut best hotel stay stay resort week boyfr...               1\n",
              "4  nice room properti servic horribl arriv hotel ...               0"
            ]
          },
          "execution_count": 21,
          "metadata": {},
          "output_type": "execute_result"
        }
      ],
      "source": [
        "data_balanced.head(5)"
      ]
    },
    {
      "cell_type": "markdown",
      "metadata": {},
      "source": [
        "- Melakukan Text preprocessing karena memiliki peran penting untuk meningkatkan akurasi dan efisiensi model NLP. Tanpa preprocessing yang baik, model mungkin tidak dapat memahami konteks atau makna dari data teks dengan benar."
      ]
    },
    {
      "cell_type": "markdown",
      "metadata": {
        "id": "0vykQ5xxTfs6"
      },
      "source": [
        "### Data Splitting"
      ]
    },
    {
      "cell_type": "code",
      "execution_count": 22,
      "metadata": {
        "colab": {
          "base_uri": "https://localhost:8080/"
        },
        "id": "7glJTQ-UTfs6",
        "outputId": "973ffe22-b86c-4d7d-d30b-8109cd646a39"
      },
      "outputs": [
        {
          "name": "stdout",
          "output_type": "stream",
          "text": [
            "Train Size :  (4643,)\n",
            "Val Size   :  (820,)\n",
            "Test Size  :  (965,)\n"
          ]
        }
      ],
      "source": [
        "X_train_val, X_test, y_train_val, y_test = train_test_split(data_balanced.Review, data_balanced.Grouped_Rating, test_size=0.15, random_state=42)\n",
        "X_train, X_val, y_train, y_val = train_test_split(X_train_val, y_train_val, test_size=0.15, random_state=42)\n",
        "\n",
        "print('Train Size : ', X_train.shape)\n",
        "print('Val Size   : ', X_val.shape)\n",
        "print('Test Size  : ', X_test.shape)"
      ]
    },
    {
      "cell_type": "markdown",
      "metadata": {},
      "source": [
        "- Train size memiliki 4643 baris data\n",
        "- Validation size memiliki 820 baris data\n",
        "- Test Size memiliki 965 baris data"
      ]
    },
    {
      "cell_type": "markdown",
      "metadata": {
        "id": "Z5pjQbrfa2Fo"
      },
      "source": [
        "### Encoding"
      ]
    },
    {
      "cell_type": "code",
      "execution_count": 23,
      "metadata": {
        "colab": {
          "base_uri": "https://localhost:8080/"
        },
        "id": "w68a4W1xa6h2",
        "outputId": "000d60a9-0ca8-4aea-cd9d-fb4f89579afa"
      },
      "outputs": [
        {
          "data": {
            "text/plain": [
              "array([[0., 1.],\n",
              "       [1., 0.],\n",
              "       [0., 1.],\n",
              "       ...,\n",
              "       [0., 1.],\n",
              "       [0., 1.],\n",
              "       [1., 0.]], dtype=float32)"
            ]
          },
          "execution_count": 23,
          "metadata": {},
          "output_type": "execute_result"
        }
      ],
      "source": [
        "y_train_ohe = to_categorical(y_train)\n",
        "y_val_ohe = to_categorical(y_val)\n",
        "y_test_ohe = to_categorical(y_test)\n",
        "y_train_ohe"
      ]
    },
    {
      "cell_type": "markdown",
      "metadata": {
        "id": "2-9VfGfpbUOv"
      },
      "source": [
        "## vi. ANN Training"
      ]
    },
    {
      "cell_type": "markdown",
      "metadata": {
        "id": "bJbHfMq2g3Nd"
      },
      "source": [
        "### Text Vectorizing"
      ]
    },
    {
      "cell_type": "code",
      "execution_count": 24,
      "metadata": {
        "colab": {
          "base_uri": "https://localhost:8080/"
        },
        "id": "n4fuLxXTbani",
        "outputId": "9b768d0d-ea69-421a-c680-05c525916879"
      },
      "outputs": [
        {
          "data": {
            "text/plain": [
              "<4643x17475 sparse matrix of type '<class 'numpy.int64'>'\n",
              "\twith 360094 stored elements in Compressed Sparse Row format>"
            ]
          },
          "execution_count": 24,
          "metadata": {},
          "output_type": "execute_result"
        }
      ],
      "source": [
        "# Get Vocabularies\n",
        "\n",
        "Vectorize = CountVectorizer()\n",
        "X_train_vec = Vectorize.fit_transform(X_train)\n",
        "X_test_vec = Vectorize.transform(X_test)\n",
        "\n",
        "X_train_vec"
      ]
    },
    {
      "cell_type": "markdown",
      "metadata": {},
      "source": [
        "Berdasarkan syntax diatas:\n",
        "- Menunjukkan bahwa data X_train terdiri dari 4.643 sampel (ulasan atau dokumen) dan memiliki 17.475 kata unik (fitur atau token) setelah tokenisasi.\n",
        "- Banyaknya samble bisa bagus untuk menangkap berbagai nuansa dalam data. Namun, dapat juga menyebabkan kompleksitas yang meningkat dan kemungkinan overfitting jika tidak ditangani dengan benar."
      ]
    },
    {
      "cell_type": "code",
      "execution_count": 25,
      "metadata": {
        "colab": {
          "base_uri": "https://localhost:8080/"
        },
        "id": "i5jkgUBachRT",
        "outputId": "15489d20-60f2-4ff3-fa18-2d94ab0ec01a"
      },
      "outputs": [
        {
          "name": "stdout",
          "output_type": "stream",
          "text": [
            "Total Vocab :  17475\n",
            "Maximum Sentence Length :  1347 tokens\n"
          ]
        }
      ],
      "source": [
        "# Finding the Number of Vocabs and Max Token Length in One Document\n",
        "\n",
        "total_vocab = len(Vectorize.vocabulary_.keys())\n",
        "max_sen_len = max([len(i.split(\" \")) for i in X_train])\n",
        "\n",
        "print('Total Vocab : ', total_vocab)\n",
        "print('Maximum Sentence Length : ', max_sen_len, 'tokens')"
      ]
    },
    {
      "cell_type": "markdown",
      "metadata": {},
      "source": [
        "- Panjang kalimat maksimum sebesar 1.347 token menunjukkan bahwa beberapa dokumen dalam dataset sangat panjang."
      ]
    },
    {
      "cell_type": "code",
      "execution_count": 26,
      "metadata": {
        "id": "CcaQ730ccvas"
      },
      "outputs": [
        {
          "name": "stdout",
          "output_type": "stream",
          "text": [
            "WARNING:tensorflow:From c:\\Users\\fachr\\anaconda3\\envs\\tensor_flow\\lib\\site-packages\\keras\\src\\backend.py:873: The name tf.get_default_graph is deprecated. Please use tf.compat.v1.get_default_graph instead.\n",
            "\n",
            "WARNING:tensorflow:From c:\\Users\\fachr\\anaconda3\\envs\\tensor_flow\\lib\\site-packages\\keras\\src\\utils\\tf_utils.py:492: The name tf.ragged.RaggedTensorValue is deprecated. Please use tf.compat.v1.ragged.RaggedTensorValue instead.\n",
            "\n"
          ]
        }
      ],
      "source": [
        "# Text Vectorization\n",
        "\n",
        "text_vectorization = TextVectorization(max_tokens=total_vocab,\n",
        "                                       standardize=\"lower_and_strip_punctuation\",\n",
        "                                       split=\"whitespace\",\n",
        "                                       ngrams=None,\n",
        "                                       output_mode=\"int\",\n",
        "                                       output_sequence_length=max_sen_len,\n",
        "                                       input_shape=(1,)) # Only use in Sequential API\n",
        "\n",
        "text_vectorization.adapt(X_train)"
      ]
    },
    {
      "cell_type": "code",
      "execution_count": 27,
      "metadata": {
        "colab": {
          "base_uri": "https://localhost:8080/"
        },
        "id": "Vz_970IQhTq_",
        "outputId": "0d49f578-089f-4178-9096-e66a3ff33082"
      },
      "outputs": [
        {
          "name": "stdout",
          "output_type": "stream",
          "text": [
            "Document example\n",
            "disappoint hotel disappoint idea stay renov th centuri convent charm n't expect renov modern asian flair stay tradit old world italian charm hotel hotel surpris breakfast sub par say parti end walk coupl door cafe cross fast food quikimart buy cappucinno hotel restaur includ cappucinno breakfast pay extra n't good room spacious particular european standard bit shabbi bathroom tini appoint worst question neighborhood desk advis night singl femal safe hotel privledg gym instead workout room walk gym nervous gym provid water towel young men lift weight friend women felt quit conspicu place rooftop love time tri lock n't open desk help spoke english beauti help rememb room number love choos hotel adequ place park suitcas hour sleep place want linger soak ambianc laptop check wireless access conveni check email\n",
            "\n",
            "Result of Text Vectorization\n",
            "tf.Tensor([[122   2 122 ...   0   0   0]], shape=(1, 1347), dtype=int64)\n",
            "Vector size :  (1, 1347)\n"
          ]
        }
      ],
      "source": [
        "# Example Result\n",
        "\n",
        "## Document example\n",
        "print('Document example')\n",
        "print(data_balanced.Review[0])\n",
        "print('')\n",
        "\n",
        "## Result of Text Vectorization\n",
        "print('Result of Text Vectorization')\n",
        "print(text_vectorization([data_balanced.Review[0]]))\n",
        "print('Vector size : ', text_vectorization([data_balanced.Review[0]]).shape)"
      ]
    },
    {
      "cell_type": "code",
      "execution_count": 28,
      "metadata": {
        "colab": {
          "base_uri": "https://localhost:8080/"
        },
        "id": "msGI0W5UghdF",
        "outputId": "60eb1894-b37f-4a8b-ba07-3e2b16cebe0e"
      },
      "outputs": [
        {
          "data": {
            "text/plain": [
              "['',\n",
              " '[UNK]',\n",
              " 'hotel',\n",
              " 'room',\n",
              " 'stay',\n",
              " 'nt',\n",
              " 'great',\n",
              " 'staff',\n",
              " 'night',\n",
              " 'day',\n",
              " 'good',\n",
              " 'time',\n",
              " 'servic',\n",
              " 'locat',\n",
              " 'nice',\n",
              " 'food',\n",
              " 'like',\n",
              " 'beach',\n",
              " 'clean',\n",
              " 'place']"
            ]
          },
          "execution_count": 28,
          "metadata": {},
          "output_type": "execute_result"
        }
      ],
      "source": [
        "# View the Top 20 Tokens (Sorted by the Highest Frequency of Appearance)\n",
        "\n",
        "text_vectorization.get_vocabulary()[:20]"
      ]
    },
    {
      "cell_type": "markdown",
      "metadata": {},
      "source": [
        "- Syntax diatas adalah beberapa vocabulary yang paling sering muncul pada dataset."
      ]
    },
    {
      "cell_type": "markdown",
      "metadata": {
        "id": "Bp4tfr2-gy5W"
      },
      "source": [
        "### Word Embedding"
      ]
    },
    {
      "cell_type": "code",
      "execution_count": 29,
      "metadata": {
        "id": "MRnJ12n1g6Ov"
      },
      "outputs": [],
      "source": [
        "# Embedding\n",
        "\n",
        "embedding = Embedding(input_dim=total_vocab,\n",
        "                      output_dim=128,\n",
        "                      embeddings_initializer=\"uniform\",\n",
        "                      input_length=max_sen_len)"
      ]
    },
    {
      "cell_type": "code",
      "execution_count": 30,
      "metadata": {
        "colab": {
          "base_uri": "https://localhost:8080/"
        },
        "id": "4yoycMqVhhbd",
        "outputId": "2bfc5a1b-a875-461e-8e2f-a018526280bd"
      },
      "outputs": [
        {
          "name": "stdout",
          "output_type": "stream",
          "text": [
            "Document example\n",
            "disappoint hotel disappoint idea stay renov th centuri convent charm n't expect renov modern asian flair stay tradit old world italian charm hotel hotel surpris breakfast sub par say parti end walk coupl door cafe cross fast food quikimart buy cappucinno hotel restaur includ cappucinno breakfast pay extra n't good room spacious particular european standard bit shabbi bathroom tini appoint worst question neighborhood desk advis night singl femal safe hotel privledg gym instead workout room walk gym nervous gym provid water towel young men lift weight friend women felt quit conspicu place rooftop love time tri lock n't open desk help spoke english beauti help rememb room number love choos hotel adequ place park suitcas hour sleep place want linger soak ambianc laptop check wireless access conveni check email\n",
            "\n",
            "Result of  Text Vectorization\n",
            "tf.Tensor([[122   2 122 ...   0   0   0]], shape=(1, 1347), dtype=int64)\n",
            "Vector size :  (1, 1347)\n",
            "\n",
            "Result of  Embedding\n",
            "tf.Tensor(\n",
            "[[[ 0.01963091  0.02994514  0.00288427 ...  0.04921779 -0.03537511\n",
            "   -0.01685034]\n",
            "  [-0.02147996 -0.03173482  0.01717234 ... -0.01184709  0.00832615\n",
            "   -0.03699645]\n",
            "  [ 0.01963091  0.02994514  0.00288427 ...  0.04921779 -0.03537511\n",
            "   -0.01685034]\n",
            "  ...\n",
            "  [-0.03633188  0.03316003  0.01901648 ...  0.04116322 -0.03319626\n",
            "   -0.0473825 ]\n",
            "  [-0.03633188  0.03316003  0.01901648 ...  0.04116322 -0.03319626\n",
            "   -0.0473825 ]\n",
            "  [-0.03633188  0.03316003  0.01901648 ...  0.04116322 -0.03319626\n",
            "   -0.0473825 ]]], shape=(1, 1347, 128), dtype=float32)\n",
            "Vector size :  (1, 1347, 128)\n"
          ]
        }
      ],
      "source": [
        "# Example Result\n",
        "\n",
        "## Document example\n",
        "print('Document example')\n",
        "print(data_balanced.Review[0])\n",
        "print('')\n",
        "\n",
        "## Result of Text Vectorization\n",
        "print('Result of  Text Vectorization')\n",
        "print(text_vectorization([data_balanced.Review[0]]))\n",
        "print('Vector size : ', text_vectorization([data_balanced.Review[0]]).shape)\n",
        "print('')\n",
        "\n",
        "## Result of  Embedding\n",
        "print('Result of  Embedding')\n",
        "print(embedding(text_vectorization([data_balanced.Review[0]])))\n",
        "print('Vector size : ', embedding(text_vectorization([data_balanced.Review[0]])).shape)"
      ]
    },
    {
      "cell_type": "markdown",
      "metadata": {
        "id": "3SkVANg9h2ue"
      },
      "source": [
        "### LSTM Model"
      ]
    },
    {
      "cell_type": "code",
      "execution_count": 31,
      "metadata": {
        "colab": {
          "base_uri": "https://localhost:8080/"
        },
        "id": "GzanGyzVpX_7",
        "outputId": "a508bc7c-8fc2-4367-e1b8-5710af4b6b21"
      },
      "outputs": [
        {
          "name": "stdout",
          "output_type": "stream",
          "text": [
            "X_train shape: (6428,)\n",
            "y_train_ohe shape: (6428, 2)\n"
          ]
        }
      ],
      "source": [
        "X_train = data_balanced['Review'].values #Convert to numpy array\n",
        "y_train_ohe = pd.get_dummies(data_balanced['Grouped_Rating']).values  # One-hot encoding\n",
        "\n",
        "print(\"X_train shape:\", X_train.shape)\n",
        "print(\"y_train_ohe shape:\", y_train_ohe.shape)\n"
      ]
    },
    {
      "cell_type": "code",
      "execution_count": 32,
      "metadata": {
        "colab": {
          "base_uri": "https://localhost:8080/"
        },
        "id": "DC2H9-XpqoYp",
        "outputId": "2b95eff3-02e9-4fd9-9d54-cf5c770623df"
      },
      "outputs": [
        {
          "data": {
            "text/plain": [
              "array([[ True, False],\n",
              "       [False,  True],\n",
              "       [ True, False],\n",
              "       ...,\n",
              "       [False,  True],\n",
              "       [ True, False],\n",
              "       [ True, False]])"
            ]
          },
          "execution_count": 32,
          "metadata": {},
          "output_type": "execute_result"
        }
      ],
      "source": [
        "y_train_ohe"
      ]
    },
    {
      "cell_type": "code",
      "execution_count": 37,
      "metadata": {
        "colab": {
          "base_uri": "https://localhost:8080/"
        },
        "id": "Wb4mzeIwhl9G",
        "outputId": "9e90f3ba-99b6-4c9e-8eb0-5f4b05874832"
      },
      "outputs": [
        {
          "name": "stdout",
          "output_type": "stream",
          "text": [
            "Epoch 1/30\n",
            "161/161 [==============================] - 26s 123ms/step - loss: 0.3428 - accuracy: 0.8501 - val_loss: 0.2356 - val_accuracy: 0.9121\n",
            "Epoch 2/30\n",
            "161/161 [==============================] - 18s 111ms/step - loss: 0.1225 - accuracy: 0.9568 - val_loss: 0.2304 - val_accuracy: 0.9129\n",
            "Epoch 3/30\n",
            "161/161 [==============================] - 17s 104ms/step - loss: 0.0578 - accuracy: 0.9835 - val_loss: 0.3033 - val_accuracy: 0.9012\n",
            "Epoch 4/30\n",
            "161/161 [==============================] - 16s 97ms/step - loss: 0.0359 - accuracy: 0.9895 - val_loss: 0.3875 - val_accuracy: 0.8911\n",
            "Epoch 5/30\n",
            "161/161 [==============================] - 16s 98ms/step - loss: 0.0204 - accuracy: 0.9946 - val_loss: 0.3647 - val_accuracy: 0.8942\n",
            "Epoch 6/30\n",
            "161/161 [==============================] - 15s 96ms/step - loss: 0.0203 - accuracy: 0.9944 - val_loss: 0.4856 - val_accuracy: 0.8771\n",
            "Epoch 7/30\n",
            "161/161 [==============================] - 16s 96ms/step - loss: 0.0186 - accuracy: 0.9949 - val_loss: 0.4394 - val_accuracy: 0.8974\n",
            "Epoch 8/30\n",
            "161/161 [==============================] - 16s 99ms/step - loss: 0.0098 - accuracy: 0.9975 - val_loss: 0.5434 - val_accuracy: 0.8841\n",
            "Epoch 9/30\n",
            "161/161 [==============================] - 16s 99ms/step - loss: 0.0217 - accuracy: 0.9934 - val_loss: 0.4128 - val_accuracy: 0.8904\n",
            "Epoch 10/30\n",
            "161/161 [==============================] - 16s 98ms/step - loss: 0.0092 - accuracy: 0.9975 - val_loss: 0.5267 - val_accuracy: 0.8896\n",
            "Epoch 11/30\n",
            "161/161 [==============================] - 16s 99ms/step - loss: 0.0065 - accuracy: 0.9982 - val_loss: 0.5826 - val_accuracy: 0.8904\n",
            "Epoch 12/30\n",
            "161/161 [==============================] - 16s 98ms/step - loss: 0.0035 - accuracy: 0.9988 - val_loss: 0.6610 - val_accuracy: 0.8818\n",
            "Epoch 13/30\n",
            "161/161 [==============================] - 16s 99ms/step - loss: 0.0134 - accuracy: 0.9955 - val_loss: 0.5594 - val_accuracy: 0.8888\n",
            "Epoch 14/30\n",
            "161/161 [==============================] - 16s 98ms/step - loss: 0.0075 - accuracy: 0.9977 - val_loss: 0.6330 - val_accuracy: 0.8896\n",
            "Epoch 15/30\n",
            "161/161 [==============================] - 16s 98ms/step - loss: 0.0029 - accuracy: 0.9990 - val_loss: 0.6293 - val_accuracy: 0.8888\n",
            "Epoch 16/30\n",
            "161/161 [==============================] - 16s 99ms/step - loss: 3.6891e-04 - accuracy: 1.0000 - val_loss: 0.6758 - val_accuracy: 0.8841\n",
            "Epoch 17/30\n",
            "161/161 [==============================] - 16s 99ms/step - loss: 2.4956e-04 - accuracy: 1.0000 - val_loss: 0.7192 - val_accuracy: 0.8865\n",
            "Epoch 18/30\n",
            "161/161 [==============================] - 15s 96ms/step - loss: 1.9666e-04 - accuracy: 1.0000 - val_loss: 0.7472 - val_accuracy: 0.8857\n",
            "Epoch 19/30\n",
            "161/161 [==============================] - 15s 96ms/step - loss: 1.6075e-04 - accuracy: 1.0000 - val_loss: 0.7711 - val_accuracy: 0.8826\n",
            "Epoch 20/30\n",
            "161/161 [==============================] - 15s 96ms/step - loss: 1.3869e-04 - accuracy: 1.0000 - val_loss: 0.7944 - val_accuracy: 0.8810\n",
            "Epoch 21/30\n",
            "161/161 [==============================] - 15s 96ms/step - loss: 1.1984e-04 - accuracy: 1.0000 - val_loss: 0.8145 - val_accuracy: 0.8810\n",
            "Epoch 22/30\n",
            "161/161 [==============================] - 15s 95ms/step - loss: 1.0586e-04 - accuracy: 1.0000 - val_loss: 0.8341 - val_accuracy: 0.8826\n",
            "Epoch 23/30\n",
            "161/161 [==============================] - 16s 97ms/step - loss: 8.7538e-05 - accuracy: 1.0000 - val_loss: 0.8523 - val_accuracy: 0.8834\n",
            "Epoch 24/30\n",
            "161/161 [==============================] - 16s 100ms/step - loss: 7.9272e-05 - accuracy: 1.0000 - val_loss: 0.8693 - val_accuracy: 0.8834\n",
            "Epoch 25/30\n",
            "161/161 [==============================] - 16s 98ms/step - loss: 7.3228e-05 - accuracy: 1.0000 - val_loss: 0.8866 - val_accuracy: 0.8810\n",
            "Epoch 26/30\n",
            "161/161 [==============================] - 16s 102ms/step - loss: 6.5057e-05 - accuracy: 1.0000 - val_loss: 0.9032 - val_accuracy: 0.8818\n",
            "Epoch 27/30\n",
            "161/161 [==============================] - 16s 99ms/step - loss: 5.9701e-05 - accuracy: 1.0000 - val_loss: 0.9189 - val_accuracy: 0.8826\n",
            "Epoch 28/30\n",
            "161/161 [==============================] - 16s 101ms/step - loss: 5.2218e-05 - accuracy: 1.0000 - val_loss: 0.9339 - val_accuracy: 0.8826\n",
            "Epoch 29/30\n",
            "161/161 [==============================] - 15s 96ms/step - loss: 5.3858e-05 - accuracy: 1.0000 - val_loss: 0.9436 - val_accuracy: 0.8834\n",
            "Epoch 30/30\n",
            "161/161 [==============================] - 16s 102ms/step - loss: 4.1478e-05 - accuracy: 1.0000 - val_loss: 0.9580 - val_accuracy: 0.8834\n"
          ]
        }
      ],
      "source": [
        "## Clear Session\n",
        "seed = 20\n",
        "tf.keras.backend.clear_session()\n",
        "np.random.seed(seed)\n",
        "tf.random.set_seed(seed)\n",
        "\n",
        "# Define the TextVectorization layer\n",
        "text_vectorization = TextVectorization(max_tokens=17475, output_mode='int', output_sequence_length=100) # Inisialisasi kembali dengan parameter baru karena jika menggunakan parameter sebelumnya akan memakan waktu lebih lama\n",
        "# Adapt the TextVectorization layer on the training data\n",
        "text_vectorization.adapt(X_train)\n",
        "\n",
        "# Define the model architecture\n",
        "model_lstm_1 = Sequential()\n",
        "model_lstm_1.add(text_vectorization)  # Add TextVectorization as the first layer\n",
        "model_lstm_1.add(Embedding(input_dim=17475, output_dim=128)) # Inisialisasi kembali dengan parameter baru karena jika menggunakan parameter sebelumnya akan memakan waktu lebih lama\n",
        "model_lstm_1.add(Bidirectional(LSTM(32, return_sequences=True, kernel_initializer=tf.keras.initializers.GlorotUniform(seed))))\n",
        "model_lstm_1.add(Dropout(0.1))\n",
        "model_lstm_1.add(Bidirectional(LSTM(16, kernel_initializer=tf.keras.initializers.GlorotUniform(seed))))\n",
        "model_lstm_1.add(Dropout(0.1))\n",
        "model_lstm_1.add(Dense(2, activation='softmax'))  # Assuming two classes\n",
        "\n",
        "# Compile the model\n",
        "model_lstm_1.compile(loss='categorical_crossentropy', optimizer='adam', metrics=['accuracy'])\n",
        "\n",
        "# Fit the model\n",
        "model_lstm_1_hist = model_lstm_1.fit(X_train, y_train_ohe, epochs=30, validation_split=0.2)"
      ]
    },
    {
      "cell_type": "markdown",
      "metadata": {
        "id": "WZevNwHIAJPO"
      },
      "source": [
        "### Plot Training Result"
      ]
    },
    {
      "cell_type": "code",
      "execution_count": 38,
      "metadata": {
        "colab": {
          "base_uri": "https://localhost:8080/",
          "height": 410
        },
        "id": "m8vB8A9drVHc",
        "outputId": "266f3454-2b7e-4962-ac5a-78d0184c79e9"
      },
      "outputs": [
        {
          "data": {
            "image/png": "[encoded data removed]",
            "text/plain": [
              "<Figure size 1200x400 with 2 Axes>"
            ]
          },
          "metadata": {},
          "output_type": "display_data"
        }
      ],
      "source": [
        "plt.figure(figsize=(12, 4))\n",
        "\n",
        "plt.subplot(1, 2, 1)\n",
        "plt.plot(model_lstm_1_hist.history['accuracy'], label='Training Accuracy')\n",
        "plt.plot(model_lstm_1_hist.history['val_accuracy'], label='Validation Accuracy')\n",
        "plt.title('Training and Validation Accuracy')\n",
        "plt.xlabel('Epoch')\n",
        "plt.ylabel('Accuracy')\n",
        "plt.legend()\n",
        "\n",
        "plt.subplot(1, 2, 2)\n",
        "plt.plot(model_lstm_1_hist.history['loss'], label='Training Loss')\n",
        "plt.plot(model_lstm_1_hist.history['val_loss'], label='Validation Loss')\n",
        "plt.title('Training and Validation Loss')\n",
        "plt.xlabel('Epoch')\n",
        "plt.ylabel('Loss')\n",
        "plt.legend()\n",
        "\n",
        "plt.show()\n"
      ]
    },
    {
      "cell_type": "markdown",
      "metadata": {
        "id": "Y1zKzid5r1BK"
      },
      "source": [
        "- Berdasarkan grafik diatas kita bisa simpulkan bahwa model sangat overfit. Terlihat bahwa ada jarak yang lumayan besar antara training dan validation accuracy. Oleh karena itu saya akan menggunakan Transfer Learning pada model guna mengecilkan jarak tersebut."
      ]
    },
    {
      "cell_type": "markdown",
      "metadata": {},
      "source": [
        "## vii. ANN Training Improvement"
      ]
    },
    {
      "cell_type": "markdown",
      "metadata": {
        "id": "klAmJe6T_o2Z"
      },
      "source": [
        "### LSTM Model with Transfer Learning"
      ]
    },
    {
      "cell_type": "code",
      "execution_count": 40,
      "metadata": {
        "id": "zwpq_dAnr7GV"
      },
      "outputs": [
        {
          "name": "stdout",
          "output_type": "stream",
          "text": [
            "WARNING:tensorflow:From c:\\Users\\fachr\\anaconda3\\envs\\tensor_flow\\lib\\site-packages\\tensorflow_hub\\resolver.py:120: The name tf.gfile.MakeDirs is deprecated. Please use tf.io.gfile.makedirs instead.\n",
            "\n"
          ]
        },
        {
          "name": "stderr",
          "output_type": "stream",
          "text": [
            "WARNING:tensorflow:From c:\\Users\\fachr\\anaconda3\\envs\\tensor_flow\\lib\\site-packages\\tensorflow_hub\\resolver.py:120: The name tf.gfile.MakeDirs is deprecated. Please use tf.io.gfile.makedirs instead.\n",
            "\n"
          ]
        },
        {
          "name": "stdout",
          "output_type": "stream",
          "text": [
            "WARNING:tensorflow:From c:\\Users\\fachr\\anaconda3\\envs\\tensor_flow\\lib\\site-packages\\tensorflow_hub\\module_v2.py:126: The name tf.saved_model.load_v2 is deprecated. Please use tf.compat.v2.saved_model.load instead.\n",
            "\n"
          ]
        },
        {
          "name": "stderr",
          "output_type": "stream",
          "text": [
            "WARNING:tensorflow:From c:\\Users\\fachr\\anaconda3\\envs\\tensor_flow\\lib\\site-packages\\tensorflow_hub\\module_v2.py:126: The name tf.saved_model.load_v2 is deprecated. Please use tf.compat.v2.saved_model.load instead.\n",
            "\n"
          ]
        }
      ],
      "source": [
        "# Download the Embedding Layer\n",
        "\n",
        "url = 'https://tfhub.dev/google/tf2-preview/nnlm-en-dim128-with-normalization/1'\n",
        "\n",
        "hub_layer = tf_hub.KerasLayer(url, output_shape=[128], input_shape=[], dtype=tf.string)"
      ]
    },
    {
      "cell_type": "code",
      "execution_count": 41,
      "metadata": {},
      "outputs": [
        {
          "name": "stdout",
          "output_type": "stream",
          "text": [
            "Epoch 1/30\n",
            "161/161 [==============================] - 19s 79ms/step - loss: 0.6459 - accuracy: 0.6060 - val_loss: 0.5953 - val_accuracy: 0.6851\n",
            "Epoch 2/30\n",
            "161/161 [==============================] - 12s 74ms/step - loss: 0.5679 - accuracy: 0.7060 - val_loss: 0.5558 - val_accuracy: 0.7201\n",
            "Epoch 3/30\n",
            "161/161 [==============================] - 12s 77ms/step - loss: 0.5360 - accuracy: 0.7334 - val_loss: 0.5220 - val_accuracy: 0.7543\n",
            "Epoch 4/30\n",
            "161/161 [==============================] - 12s 74ms/step - loss: 0.5215 - accuracy: 0.7452 - val_loss: 0.5680 - val_accuracy: 0.7286\n",
            "Epoch 5/30\n",
            "161/161 [==============================] - 13s 81ms/step - loss: 0.5053 - accuracy: 0.7552 - val_loss: 0.5046 - val_accuracy: 0.7644\n",
            "Epoch 6/30\n",
            "161/161 [==============================] - 12s 76ms/step - loss: 0.4943 - accuracy: 0.7678 - val_loss: 0.5140 - val_accuracy: 0.7652\n",
            "Epoch 7/30\n",
            "161/161 [==============================] - 12s 74ms/step - loss: 0.4926 - accuracy: 0.7660 - val_loss: 0.5021 - val_accuracy: 0.7667\n",
            "Epoch 8/30\n",
            "161/161 [==============================] - 12s 74ms/step - loss: 0.4880 - accuracy: 0.7629 - val_loss: 0.4934 - val_accuracy: 0.7722\n",
            "Epoch 9/30\n",
            "161/161 [==============================] - 12s 74ms/step - loss: 0.4842 - accuracy: 0.7694 - val_loss: 0.5006 - val_accuracy: 0.7683\n",
            "Epoch 10/30\n",
            "161/161 [==============================] - 12s 74ms/step - loss: 0.4815 - accuracy: 0.7678 - val_loss: 0.4843 - val_accuracy: 0.7823\n",
            "Epoch 11/30\n",
            "161/161 [==============================] - 12s 76ms/step - loss: 0.4756 - accuracy: 0.7764 - val_loss: 0.5334 - val_accuracy: 0.7449\n",
            "Epoch 12/30\n",
            "161/161 [==============================] - 12s 75ms/step - loss: 0.4727 - accuracy: 0.7762 - val_loss: 0.4826 - val_accuracy: 0.7698\n",
            "Epoch 13/30\n",
            "161/161 [==============================] - 12s 76ms/step - loss: 0.4689 - accuracy: 0.7818 - val_loss: 0.4851 - val_accuracy: 0.7753\n",
            "Epoch 14/30\n",
            "161/161 [==============================] - 12s 77ms/step - loss: 0.4644 - accuracy: 0.7797 - val_loss: 0.5040 - val_accuracy: 0.7659\n",
            "Epoch 15/30\n",
            "161/161 [==============================] - 12s 75ms/step - loss: 0.4642 - accuracy: 0.7793 - val_loss: 0.4747 - val_accuracy: 0.7799\n",
            "Epoch 16/30\n",
            "161/161 [==============================] - 12s 78ms/step - loss: 0.4642 - accuracy: 0.7841 - val_loss: 0.5161 - val_accuracy: 0.7582\n",
            "Epoch 17/30\n",
            "161/161 [==============================] - 13s 78ms/step - loss: 0.4593 - accuracy: 0.7832 - val_loss: 0.4908 - val_accuracy: 0.7597\n",
            "Epoch 18/30\n",
            "161/161 [==============================] - 12s 74ms/step - loss: 0.4621 - accuracy: 0.7785 - val_loss: 0.4776 - val_accuracy: 0.7815\n",
            "Epoch 19/30\n",
            "161/161 [==============================] - 12s 75ms/step - loss: 0.4535 - accuracy: 0.7847 - val_loss: 0.4911 - val_accuracy: 0.7589\n",
            "Epoch 20/30\n",
            "161/161 [==============================] - 12s 75ms/step - loss: 0.4521 - accuracy: 0.7888 - val_loss: 0.4744 - val_accuracy: 0.7706\n",
            "Epoch 21/30\n",
            "161/161 [==============================] - 12s 74ms/step - loss: 0.4572 - accuracy: 0.7814 - val_loss: 0.4730 - val_accuracy: 0.7745\n",
            "Epoch 22/30\n",
            "161/161 [==============================] - 12s 74ms/step - loss: 0.4532 - accuracy: 0.7822 - val_loss: 0.4744 - val_accuracy: 0.7753\n",
            "Epoch 23/30\n",
            "161/161 [==============================] - 12s 73ms/step - loss: 0.4505 - accuracy: 0.7884 - val_loss: 0.4810 - val_accuracy: 0.7745\n",
            "Epoch 24/30\n",
            "161/161 [==============================] - 12s 74ms/step - loss: 0.4468 - accuracy: 0.7919 - val_loss: 0.4781 - val_accuracy: 0.7504\n",
            "Epoch 25/30\n",
            "161/161 [==============================] - 12s 75ms/step - loss: 0.4454 - accuracy: 0.7876 - val_loss: 0.4808 - val_accuracy: 0.7589\n",
            "Epoch 26/30\n",
            "161/161 [==============================] - 12s 75ms/step - loss: 0.4458 - accuracy: 0.7904 - val_loss: 0.4969 - val_accuracy: 0.7636\n",
            "Epoch 27/30\n",
            "161/161 [==============================] - 12s 75ms/step - loss: 0.4473 - accuracy: 0.7876 - val_loss: 0.4713 - val_accuracy: 0.7776\n",
            "Epoch 28/30\n",
            "161/161 [==============================] - 12s 75ms/step - loss: 0.4412 - accuracy: 0.7923 - val_loss: 0.4764 - val_accuracy: 0.7652\n",
            "Epoch 29/30\n",
            "161/161 [==============================] - 12s 75ms/step - loss: 0.4396 - accuracy: 0.7900 - val_loss: 0.4783 - val_accuracy: 0.7706\n",
            "Epoch 30/30\n",
            "161/161 [==============================] - 12s 76ms/step - loss: 0.4412 - accuracy: 0.7933 - val_loss: 0.4711 - val_accuracy: 0.7698\n"
          ]
        }
      ],
      "source": [
        "# Define input layer\n",
        "input_text = Input(shape=[], dtype=tf.string)\n",
        "\n",
        "# Add the hub layer\n",
        "embedded_text = hub_layer(input_text)\n",
        "\n",
        "# Reshape and add LSTM layers\n",
        "reshaped = Reshape((128, 1))(embedded_text)\n",
        "x = Bidirectional(LSTM(32, return_sequences=True))(reshaped)\n",
        "x = Dropout(0.1)(x)\n",
        "x = Bidirectional(LSTM(16))(x)\n",
        "x = Dropout(0.1)(x)\n",
        "\n",
        "# Output layer\n",
        "output = Dense(2, activation='softmax')(x)\n",
        "\n",
        "# Create model\n",
        "model_lstm_2 = Model(inputs=input_text, outputs=output)\n",
        "\n",
        "# Compile the model\n",
        "model_lstm_2.compile(loss='categorical_crossentropy', optimizer='adam', metrics=['accuracy'])\n",
        "\n",
        "# Fit the model\n",
        "model_lstm_2_hist = model_lstm_2.fit(X_train, y_train_ohe, epochs=30, validation_split=0.2)\n"
      ]
    },
    {
      "cell_type": "markdown",
      "metadata": {
        "id": "olAJNC9PASAF"
      },
      "source": [
        "### Plot Training Result with Transfer Learning"
      ]
    },
    {
      "cell_type": "code",
      "execution_count": 42,
      "metadata": {
        "colab": {
          "base_uri": "https://localhost:8080/",
          "height": 410
        },
        "id": "VZIBZyqi5og4",
        "outputId": "0cbf4c04-e40d-450d-992e-b3a5c8c34b8d"
      },
      "outputs": [
        {
          "data": {
            "image/png": "[encoded data removed]",
            "text/plain": [
              "<Figure size 1200x400 with 2 Axes>"
            ]
          },
          "metadata": {},
          "output_type": "display_data"
        }
      ],
      "source": [
        "plt.figure(figsize=(12, 4))\n",
        "\n",
        "plt.subplot(1, 2, 1)\n",
        "plt.plot(model_lstm_2_hist.history['accuracy'], label='Training Accuracy')\n",
        "plt.plot(model_lstm_2_hist.history['val_accuracy'], label='Validation Accuracy')\n",
        "plt.title('Training and Validation Accuracy')\n",
        "plt.xlabel('Epoch')\n",
        "plt.ylabel('Accuracy')\n",
        "plt.legend()\n",
        "\n",
        "plt.subplot(1, 2, 2)\n",
        "plt.plot(model_lstm_2_hist.history['loss'], label='Training Loss')\n",
        "plt.plot(model_lstm_2_hist.history['val_loss'], label='Validation Loss')\n",
        "plt.title('Training and Validation Loss')\n",
        "plt.xlabel('Epoch')\n",
        "plt.ylabel('Loss')\n",
        "plt.legend()\n",
        "\n",
        "plt.show()"
      ]
    },
    {
      "cell_type": "markdown",
      "metadata": {},
      "source": [
        "Berdasarkan grafik yang diatas, dapat disimpulkan bahwa:\n",
        "\n",
        "- Model berhasil meningkatkan akurasi dan menurunkan loss selama proses training dengan menggunakan transfer learning.\n",
        "- Model masih menunjukan sedikit overfit namun sudah lebih baik dari model sebelumnya.\n",
        "- Nilai accuracy mengurang namun performa model meningkat."
      ]
    },
    {
      "cell_type": "markdown",
      "metadata": {
        "id": "2Tvg6FBtAjK-"
      },
      "source": [
        "## viii. Model Saving"
      ]
    },
    {
      "cell_type": "code",
      "execution_count": 44,
      "metadata": {
        "id": "w5DV7oKnArhS"
      },
      "outputs": [],
      "source": [
        "# Save model\n",
        "model_lstm_2.save('model.h5')  # Save the transfer learning model"
      ]
    },
    {
      "cell_type": "markdown",
      "metadata": {
        "id": "b_TNmXSuEY5G"
      },
      "source": [
        "## ix. Model Inference"
      ]
    },
    {
      "cell_type": "markdown",
      "metadata": {
        "id": "kGwVZD0oEcux"
      },
      "source": [
        "Model inference ada pada file P2G7_fachry_inf.ipynb"
      ]
    },
    {
      "cell_type": "markdown",
      "metadata": {
        "id": "zqNX1f_4Ejow"
      },
      "source": [
        "## x. Pengambilan Kesimpulan"
      ]
    },
    {
      "cell_type": "markdown",
      "metadata": {},
      "source": [
        "### EDA"
      ]
    },
    {
      "cell_type": "markdown",
      "metadata": {},
      "source": [
        "#### KESIMPULAN"
      ]
    },
    {
      "cell_type": "markdown",
      "metadata": {},
      "source": [
        "Kesimpulan dari analisis ini menunjukkan bahwa data dominasi pada rating positif dibandingkan rating negatif mencerminkan ketidakseimbangan data, yang berpotensi memengaruhi kinerja model dalam memprediksi rating dari ulasan pengguna, sehingga diperlukan langkah-langkah untuk melakukan databalancing. Namun dalam hal bisnis ini sangatlah baik karena lebih banyak rating positif menandakan bisnis berjalan dengan baik dan memuaskan majoritas pengunjung."
      ]
    },
    {
      "cell_type": "markdown",
      "metadata": {},
      "source": [
        "#### Rekomendasi"
      ]
    },
    {
      "cell_type": "markdown",
      "metadata": {},
      "source": [
        "Dari hasil analisis dapat saya berikan beberapa rekomendasi bisnis :\n",
        "- Tanggapi Ulasan Negatif: Aktif menanggapi dan menyelesaikan masalah yang diangkat dalam ulasan negatif dapat meningkatkan persepsi pelanggan dan menunjukkan bahwa hotel peduli terhadap pengalaman tamu.\n",
        "- Mengadakan Survei Pelanggan: Lakukan survei untuk mendapatkan wawasan lebih dalam mengenai aspek yang disukai pelanggan dan area yang perlu diperbaiki, guna menyesuaikan layanan dengan harapan mereka.\n",
        "- Program Loyalitas Pelanggan: Ciptakan program loyalitas untuk pelanggan yang telah memberikan ulasan positif, untuk meningkatkan retensi dan mendorong mereka kembali."
      ]
    },
    {
      "cell_type": "markdown",
      "metadata": {},
      "source": [
        "### Model"
      ]
    },
    {
      "cell_type": "markdown",
      "metadata": {},
      "source": [
        "#### KESIMPULAN"
      ]
    },
    {
      "cell_type": "markdown",
      "metadata": {},
      "source": [
        "- Model sebelum dilakukan transfer learning memiliki accuracy yang tinggi namun model cenderung overfitting.\n",
        "- Setelah dilakukan transfer learning nilai accuracy model menurun namun jarak hasil train dan validation mengecil menghasilkan model yang lebih stabil."
      ]
    },
    {
      "cell_type": "markdown",
      "metadata": {},
      "source": [
        "#### REKOMENDASI"
      ]
    },
    {
      "cell_type": "markdown",
      "metadata": {},
      "source": [
        "- Jika memiliki hardware yang lebih bagus dan waktu yang lebih banyak, bisa lebih luas dalam mengatur parameter pada model seperti text vector, word embedding, dan model architecturenya guna mengurangi overfitting.\n",
        "- Pada data balancing bisa mencoba oversampling dengan menduplikat data minoritas dengan harapan semakin banyak data semakin detail model belajar."
      ]
    }
  ],
  "metadata": {
    "accelerator": "GPU",
    "colab": {
      "gpuType": "T4",
      "provenance": [],
      "toc_visible": true
    },
    "kernelspec": {
      "display_name": "tensor_flow",
      "language": "python",
      "name": "python3"
    },
    "language_info": {
      "codemirror_mode": {
        "name": "ipython",
        "version": 3
      },
      "file_extension": ".py",
      "mimetype": "text/x-python",
      "name": "python",
      "nbconvert_exporter": "python",
      "pygments_lexer": "ipython3",
      "version": "3.9.20"
    }
  },
  "nbformat": 4,
  "nbformat_minor": 0
}
