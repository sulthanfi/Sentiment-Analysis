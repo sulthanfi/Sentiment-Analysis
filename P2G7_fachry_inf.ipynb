{
 "cells": [
  {
   "cell_type": "markdown",
   "metadata": {},
   "source": [
    "# Inference"
   ]
  },
  {
   "cell_type": "markdown",
   "metadata": {},
   "source": [
    "## Perkenalan"
   ]
  },
  {
   "cell_type": "markdown",
   "metadata": {},
   "source": [
    "=================================================\n",
    "\n",
    "Graded Challenge 5\n",
    "\n",
    "Nama  : Sulthan Fachry Inadamar\n",
    "\n",
    "Batch : HCK-020\n",
    "\n",
    "================================================="
   ]
  },
  {
   "cell_type": "markdown",
   "metadata": {},
   "source": [
    "## Import"
   ]
  },
  {
   "cell_type": "code",
   "execution_count": 12,
   "metadata": {},
   "outputs": [
    {
     "name": "stderr",
     "output_type": "stream",
     "text": [
      "[nltk_data] Downloading package stopwords to\n",
      "[nltk_data]     C:\\Users\\fachr\\AppData\\Roaming\\nltk_data...\n",
      "[nltk_data]   Package stopwords is already up-to-date!\n",
      "[nltk_data] Downloading package punkt to\n",
      "[nltk_data]     C:\\Users\\fachr\\AppData\\Roaming\\nltk_data...\n",
      "[nltk_data]   Package punkt is already up-to-date!\n"
     ]
    },
    {
     "data": {
      "text/plain": [
       "True"
      ]
     },
     "execution_count": 12,
     "metadata": {},
     "output_type": "execute_result"
    }
   ],
   "source": [
    "#import streamlit as st\n",
    "import pandas as pd\n",
    "import numpy as np\n",
    "import re\n",
    "import tensorflow as tf\n",
    "import tensorflow_hub as tf_hub\n",
    "from nltk.corpus import stopwords\n",
    "from nltk.tokenize import word_tokenize\n",
    "from tensorflow.keras.preprocessing.text import Tokenizer\n",
    "from tensorflow.keras.preprocessing.sequence import pad_sequences\n",
    "from tensorflow.keras.models import load_model\n",
    "import nltk\n",
    "\n",
    "# Download the stopwords resource\n",
    "nltk.download('stopwords')\n",
    "nltk.download('punkt')"
   ]
  },
  {
   "cell_type": "markdown",
   "metadata": {},
   "source": [
    "## Load"
   ]
  },
  {
   "cell_type": "code",
   "execution_count": 7,
   "metadata": {},
   "outputs": [],
   "source": [
    "# Load the trained model\n",
    "model = load_model('model.h5', custom_objects={'KerasLayer': tf_hub.KerasLayer})\n",
    "\n",
    "# Load stopwords\n",
    "stpwds_en = list(set(stopwords.words('english')))"
   ]
  },
  {
   "cell_type": "markdown",
   "metadata": {},
   "source": [
    "## Pre-processing"
   ]
  },
  {
   "cell_type": "code",
   "execution_count": 8,
   "metadata": {},
   "outputs": [],
   "source": [
    "# Text preprocessing function\n",
    "def text_preprocessing(text):\n",
    "    # Case folding\n",
    "    text = text.lower()\n",
    "\n",
    "    # Mention removal\n",
    "    text = re.sub(\"@[A-Za-z0-9_]+\", \" \", text)\n",
    "\n",
    "    # Hashtags removal\n",
    "    text = re.sub(\"#[A-Za-z0-9_]+\", \" \", text)\n",
    "\n",
    "    # Newline removal (\\n)\n",
    "    text = re.sub(r\"\\\\n\", \" \",text)\n",
    "\n",
    "    # Whitespace removal\n",
    "    text = text.strip()\n",
    "\n",
    "    # URL removal\n",
    "    text = re.sub(r\"http\\S+\", \" \", text)\n",
    "    text = re.sub(r\"www.\\S+\", \" \", text)\n",
    "\n",
    "    # Non-letter removal (such as emoticons, symbols, etc.)\n",
    "    text = re.sub(\"[^A-Za-z\\s']\", \" \", text)\n",
    "\n",
    "    # Tokenization\n",
    "    tokens = word_tokenize(text)\n",
    "\n",
    "    # Stopwords removal\n",
    "    tokens = [word for word in tokens if word not in stpwds_en]\n",
    "\n",
    "    # Combining Tokens\n",
    "    text = ' '.join(tokens)\n",
    "\n",
    "    return text"
   ]
  },
  {
   "cell_type": "markdown",
   "metadata": {},
   "source": [
    "## User Input"
   ]
  },
  {
   "cell_type": "code",
   "execution_count": 29,
   "metadata": {},
   "outputs": [],
   "source": [
    "user_input_pos = \"very good hotel, the bedroom is well prepared and the breakfast is amazing. Very Recommended.\"\n",
    "user_input_neg = \"this hotel sucks, the bedroom was very terrible. Swiming pool was dirty.\""
   ]
  },
  {
   "cell_type": "markdown",
   "metadata": {},
   "source": [
    "## Prediction"
   ]
  },
  {
   "cell_type": "markdown",
   "metadata": {},
   "source": [
    "### Positive"
   ]
  },
  {
   "cell_type": "code",
   "execution_count": 27,
   "metadata": {},
   "outputs": [
    {
     "name": "stdout",
     "output_type": "stream",
     "text": [
      "1/1 [==============================] - 0s 51ms/step\n",
      "Positive\n"
     ]
    }
   ],
   "source": [
    "# Preprocess the input text\n",
    "processed_text = text_preprocessing(user_input_pos)\n",
    "\n",
    "# Make prediction\n",
    "# Ensure processed_text is in the right shape (e.g., a 2D array for model input)\n",
    "prediction = model.predict(np.array([[processed_text]]))  # Use np.array to ensure proper shape\n",
    "\n",
    "# Assuming binary classification, where the first index corresponds to class 0 (negative) \n",
    "# and the second index corresponds to class 1 (positive)\n",
    "sentiment = \"Positive\" if prediction[0][1] > 0.5 else \"Negative\"\n",
    "\n",
    "print(sentiment)\n"
   ]
  },
  {
   "cell_type": "markdown",
   "metadata": {},
   "source": [
    "### Negative"
   ]
  },
  {
   "cell_type": "code",
   "execution_count": 30,
   "metadata": {},
   "outputs": [
    {
     "name": "stdout",
     "output_type": "stream",
     "text": [
      "1/1 [==============================] - 0s 38ms/step\n",
      "Negative\n"
     ]
    }
   ],
   "source": [
    "# Preprocess the input text\n",
    "processed_text = text_preprocessing(user_input_neg)\n",
    "\n",
    "# Make prediction\n",
    "# Ensure processed_text is in the right shape (e.g., a 2D array for model input)\n",
    "prediction = model.predict(np.array([[processed_text]]))  # Use np.array to ensure proper shape\n",
    "\n",
    "# Assuming binary classification, where the first index corresponds to class 0 (negative) \n",
    "# and the second index corresponds to class 1 (positive)\n",
    "sentiment = \"Positive\" if prediction[0][1] > 0.5 else \"Negative\"\n",
    "\n",
    "print(sentiment)\n"
   ]
  },
  {
   "cell_type": "markdown",
   "metadata": {},
   "source": [
    "### Kesimpulan"
   ]
  },
  {
   "cell_type": "markdown",
   "metadata": {},
   "source": [
    "Berdasarkan syntax diatas dapat disimpulkan bahwa model dapat memprediksikan inputan review dari user yang positive dengan negative"
   ]
  }
 ],
 "metadata": {
  "kernelspec": {
   "display_name": "tensor_flow",
   "language": "python",
   "name": "python3"
  },
  "language_info": {
   "codemirror_mode": {
    "name": "ipython",
    "version": 3
   },
   "file_extension": ".py",
   "mimetype": "text/x-python",
   "name": "python",
   "nbconvert_exporter": "python",
   "pygments_lexer": "ipython3",
   "version": "3.9.20"
  }
 },
 "nbformat": 4,
 "nbformat_minor": 2
}
